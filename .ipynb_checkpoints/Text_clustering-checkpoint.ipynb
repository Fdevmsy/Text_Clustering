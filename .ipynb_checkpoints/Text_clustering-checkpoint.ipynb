{
 "cells": [
  {
   "cell_type": "code",
   "execution_count": 198,
   "metadata": {
    "collapsed": true
   },
   "outputs": [],
   "source": [
    "import matplotlib.pyplot as plt\n",
    "from collections import defaultdict\n",
    "from collections import Counter\n",
    "from scipy.sparse import csr_matrix, find\n",
    "import numpy as np\n",
    "from sklearn.cluster import KMeans\n",
    "import numpy as np\n",
    "import random\n",
    "from sklearn.metrics.cluster import normalized_mutual_info_score\n",
    "from sklearn.utils import shuffle"
   ]
  },
  {
   "cell_type": "code",
   "execution_count": 229,
   "metadata": {
    "collapsed": false
   },
   "outputs": [],
   "source": [
    "file = 'train.dat.txt'\n",
    "data = open(file, 'r')\n",
    "# print data"
   ]
  },
  {
   "cell_type": "code",
   "execution_count": 200,
   "metadata": {
    "collapsed": false
   },
   "outputs": [],
   "source": [
    "docs = list()\n",
    "for row in data:\n",
    "    docs.append(row.rstrip().split(\" \"))    \n",
    "# print(docs)"
   ]
  },
  {
   "cell_type": "code",
   "execution_count": 228,
   "metadata": {
    "collapsed": false,
    "scrolled": true
   },
   "outputs": [],
   "source": [
    "# print(len(docs))"
   ]
  },
  {
   "cell_type": "code",
   "execution_count": 202,
   "metadata": {
    "collapsed": false
   },
   "outputs": [],
   "source": [
    "# sperate indices and values\n",
    "dataIndex = list()\n",
    "value = list()\n",
    "for d in docs:\n",
    "    d_index = list()\n",
    "    d_value = list()\n",
    "    for i in range(0,len(d),2):      \n",
    "        d_index.append(d[i])\n",
    "    for j in range(1,len(d),2):     \n",
    "        d_value.append(d[j])\n",
    "    dataIndex.append(d_index)\n",
    "    value.append(d_value)\n",
    "# print len(value)\n",
    "# print len(dataIndex)"
   ]
  },
  {
   "cell_type": "code",
   "execution_count": 227,
   "metadata": {
    "collapsed": false
   },
   "outputs": [],
   "source": [
    "# print len(value[0])\n",
    "# print len(dataIndex[0])"
   ]
  },
  {
   "cell_type": "code",
   "execution_count": 204,
   "metadata": {
    "collapsed": false
   },
   "outputs": [],
   "source": [
    "nrows = len(docs)\n",
    "\n",
    "idx = {}\n",
    "tid = 0\n",
    "nnz = 0\n",
    "ncol = 0\n",
    "_max = list()\n",
    "for d in dataIndex:\n",
    "    nnz += len(d)\n",
    "    _max.append(max(d))\n",
    "    for w in d:\n",
    "        if w not in idx:\n",
    "#             print(w)\n",
    "            idx[w] = tid\n",
    "            tid += 1"
   ]
  },
  {
   "cell_type": "code",
   "execution_count": 205,
   "metadata": {
    "collapsed": false
   },
   "outputs": [],
   "source": [
    "\n",
    "def csr_build(dataIndex, value):\n",
    "    ind = np.zeros(nnz, dtype=np.int)\n",
    "    val = np.zeros(nnz, dtype=np.double)\n",
    "    ptr = np.zeros(nrows+1, dtype=np.int)\n",
    "    i = 0\n",
    "    n = 0\n",
    "    \n",
    "    for (d,v) in zip(dataIndex, value):\n",
    "        l = len(d)\n",
    "        for j in range(l):\n",
    "#             print j, k\n",
    "            ind[int(j) + n] = d[j]\n",
    "            val[int(j) + n] = v[j]\n",
    "        \n",
    "        ptr[i+1] = ptr[i] + l\n",
    "        n += l\n",
    "        i += 1\n",
    "    \n",
    "    mat = csr_matrix((val, ind, ptr), shape=(nrows, max(ind)+1), dtype=np.double)\n",
    "    mat.sort_indices()\n",
    "    \n",
    "    return mat        "
   ]
  },
  {
   "cell_type": "code",
   "execution_count": 226,
   "metadata": {
    "collapsed": false
   },
   "outputs": [],
   "source": [
    "mat = csr_build(dataIndex, value)\n",
    "# print(mat.shape)"
   ]
  },
  {
   "cell_type": "code",
   "execution_count": 208,
   "metadata": {
    "collapsed": false
   },
   "outputs": [],
   "source": [
    "# scale matrix and normalize its rows\n",
    "def csr_idf(mat, copy=False, **kargs):\n",
    "    r\"\"\" Scale a CSR matrix by idf. \n",
    "    Returns scaling factors as dict. If copy is True, \n",
    "    returns scaled matrix and scaling factors.\n",
    "    \"\"\"\n",
    "    if copy is True:\n",
    "        mat = mat.copy()\n",
    "    nrows = mat.shape[0]\n",
    "    nnz = mat.nnz\n",
    "    ind, val, ptr = mat.indices, mat.data, mat.indptr\n",
    "    # document frequency\n",
    "    df = defaultdict(int)\n",
    "    for i in ind:\n",
    "        df[i] += 1\n",
    "    # inverse document frequency\n",
    "    for k,v in df.items():\n",
    "        df[k] = np.log(nrows / float(v))  ## df turns to idf - reusing memory\n",
    "    # scale by idf\n",
    "    for i in range(0, nnz):\n",
    "        val[i] *= df[ind[i]]\n",
    "        \n",
    "    return df if copy is False else mat\n",
    "\n",
    "def csr_l2normalize(mat, copy=False, **kargs):\n",
    "    r\"\"\" Normalize the rows of a CSR matrix by their L-2 norm. \n",
    "    If copy is True, returns a copy of the normalized matrix.\n",
    "    \"\"\"\n",
    "    if copy is True:\n",
    "        mat = mat.copy()\n",
    "    nrows = mat.shape[0]\n",
    "    nnz = mat.nnz\n",
    "    ind, val, ptr = mat.indices, mat.data, mat.indptr\n",
    "    # normalize\n",
    "    for i in range(nrows):\n",
    "        rsum = 0.0    \n",
    "        for j in range(ptr[i], ptr[i+1]):\n",
    "            rsum += val[j]**2\n",
    "        if rsum == 0.0:\n",
    "            continue  # do not normalize empty rows\n",
    "        rsum = float(1.0/np.sqrt(rsum))\n",
    "        for j in range(ptr[i], ptr[i+1]):\n",
    "            val[j] *= rsum\n",
    "            \n",
    "    if copy is True:\n",
    "        return mat\n"
   ]
  },
  {
   "cell_type": "code",
   "execution_count": 209,
   "metadata": {
    "collapsed": false
   },
   "outputs": [],
   "source": [
    "mat2 = csr_idf(mat, copy=True)\n",
    "mat3 = csr_l2normalize(mat2, copy=True)"
   ]
  },
  {
   "cell_type": "code",
   "execution_count": 225,
   "metadata": {
    "collapsed": false
   },
   "outputs": [],
   "source": [
    "# print mat3"
   ]
  },
  {
   "cell_type": "code",
   "execution_count": 230,
   "metadata": {
    "collapsed": false
   },
   "outputs": [],
   "source": [
    "# k = 7"
   ]
  },
  {
   "cell_type": "code",
   "execution_count": 212,
   "metadata": {
    "collapsed": false
   },
   "outputs": [],
   "source": [
    "def initCentorids(x, k):\n",
    "    x_shuffle = shuffle(x, random_state=0)\n",
    "    return x_shuffle[:k,:]"
   ]
  },
  {
   "cell_type": "code",
   "execution_count": 213,
   "metadata": {
    "collapsed": true
   },
   "outputs": [],
   "source": [
    "def sim(x1, x2):\n",
    "    sims = x1.dot(x2.T)\n",
    "    return sims"
   ]
  },
  {
   "cell_type": "code",
   "execution_count": 214,
   "metadata": {
    "collapsed": false
   },
   "outputs": [],
   "source": [
    "def findCentroids(mat, centroids):\n",
    "    idx = list()\n",
    "    simsMatrix = sim(mat, centroids)\n",
    "\n",
    "    for i in range(simsMatrix.shape[0]):\n",
    "        row = simsMatrix.getrow(i).toarray()[0].ravel()\n",
    "        top_indices = row.argsort()[-1]\n",
    "        top_values = row[row.argsort()[-1]]\n",
    "#         print top_indices\n",
    "        idx.append(top_indices + 1)\n",
    "    return idx"
   ]
  },
  {
   "cell_type": "code",
   "execution_count": 215,
   "metadata": {
    "collapsed": false
   },
   "outputs": [],
   "source": [
    "# centroids = initCentorids(mat3, k)\n",
    "# idx = findCentroids(mat3, centroids)\n",
    "# print idx"
   ]
  },
  {
   "cell_type": "code",
   "execution_count": 216,
   "metadata": {
    "collapsed": false
   },
   "outputs": [],
   "source": [
    "def computeMeans(mat, idx, k):\n",
    "    centroids = list()\n",
    "    for i in range(1,k+1):\n",
    "        indi = [j for j, x in enumerate(idx) if x == i]\n",
    "        members = mat[indi,:]\n",
    "        if (members.shape[0] > 1):\n",
    "            centroids.append(members.toarray().mean(0))\n",
    "    # print centroids\n",
    "    centroids_csr = csr_matrix(centroids)\n",
    "    return centroids_csr"
   ]
  },
  {
   "cell_type": "code",
   "execution_count": 231,
   "metadata": {
    "collapsed": true
   },
   "outputs": [],
   "source": [
    "def kmeans(k, mat, n_iter):\n",
    "    centroids = initCentorids(mat, k)\n",
    "    for _ in range(n_iter): \n",
    "        idx = findCentroids(mat, centroids)\n",
    "#         if _%5==0:\n",
    "            \n",
    "#             print _, sklearn.metrics.calinski_harabaz_score(mat.toarray(), idx)\n",
    "        centroids = computeMeans(mat, idx, k)        \n",
    "    return idx"
   ]
  },
  {
   "cell_type": "code",
   "execution_count": 220,
   "metadata": {
    "collapsed": false
   },
   "outputs": [
    {
     "name": "stdout",
     "output_type": "stream",
     "text": [
      "0 23.6365298966\n",
      "5 47.4607292082\n",
      "10 50.0799598796\n",
      "15 50.6089990639\n"
     ]
    }
   ],
   "source": [
    "idx = kmeans(7, mat3, 20)"
   ]
  },
  {
   "cell_type": "code",
   "execution_count": 222,
   "metadata": {
    "collapsed": false
   },
   "outputs": [
    {
     "data": {
      "text/plain": [
       "50.653014474707945"
      ]
     },
     "execution_count": 222,
     "metadata": {},
     "output_type": "execute_result"
    }
   ],
   "source": [
    "print \"Score: \"\n",
    "print(sklearn.metrics.calinski_harabaz_score(mat3.toarray(), idx))"
   ]
  },
  {
   "cell_type": "code",
   "execution_count": 224,
   "metadata": {
    "collapsed": false
   },
   "outputs": [],
   "source": [
    "# print result to text file\n",
    "text_file = open(\"output.dat.txt\", \"w\")\n",
    "for i in idx:\n",
    "    \n",
    "    text_file.write(str(i) +'\\n')\n",
    "text_file.close()"
   ]
  },
  {
   "cell_type": "code",
   "execution_count": null,
   "metadata": {
    "collapsed": true
   },
   "outputs": [],
   "source": []
  }
 ],
 "metadata": {
  "kernelspec": {
   "display_name": "Python 2",
   "language": "python",
   "name": "python2"
  },
  "language_info": {
   "codemirror_mode": {
    "name": "ipython",
    "version": 2
   },
   "file_extension": ".py",
   "mimetype": "text/x-python",
   "name": "python",
   "nbconvert_exporter": "python",
   "pygments_lexer": "ipython2",
   "version": "2.7.10"
  }
 },
 "nbformat": 4,
 "nbformat_minor": 0
}
